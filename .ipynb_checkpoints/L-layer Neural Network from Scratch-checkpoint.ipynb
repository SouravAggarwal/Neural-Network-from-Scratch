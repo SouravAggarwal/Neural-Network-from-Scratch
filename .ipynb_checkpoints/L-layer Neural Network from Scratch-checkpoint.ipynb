{
 "cells": [
  {
   "cell_type": "markdown",
   "metadata": {},
   "source": [
    "# Implementaion of L-layer Neural Network from Scratch"
   ]
  },
  {
   "cell_type": "markdown",
   "metadata": {},
   "source": [
    "## 1. Define Helper functions for General L-layer Neural Network\n",
    "These functions can be used to define NN with different configurations for other dataset as well. \n",
    "- Introduction\n",
    "- Initialize Parameters(W,b)\n",
    "- Forward Propagation\n",
    "      - [Linear -> Relu] *(L-1 times)   ->   [Linear -> Sigmoid] \n",
    "- Cost function\n",
    "- Backward Propagation\n",
    "- Parameters update\n",
    "\n",
    "\n",
    "## 2. Use Helper functions for Image Classification\n",
    "- Define NN Configuration\n",
    "- Import Dataset\n",
    "- Train NN (Forward propagation, Backward propagation, Weights Update)\n",
    "- Cache Weights\n",
    "- Test NN on test Dataset"
   ]
  },
  {
   "cell_type": "markdown",
   "metadata": {},
   "source": [
    "# 1. Defining Helper Functions for General L-layer NN"
   ]
  },
  {
   "cell_type": "markdown",
   "metadata": {},
   "source": [
    "## 1.1 Introduction\n",
    "To build a L-layer NN, we need some helper function which will be useful for implementing a simple NN. These will be general function can be used with other dataset as well.\n",
    "- [Linear -> Relu] for (1,2,...L-1 layers)\n",
    "- [Linear -> Sigmoid] for (layer L)\n",
    "<img src=\"images/first.jpg\" style=\"width:800px;height:450px;\">\n",
    "\n",
    "\n",
    "### Dimensions\n",
    "- **Zi = Wi . A_previous  + bi**\n",
    "- **Ai = activation_funtion(Zi)**\n",
    "    - Wi: (no. of units in current layer, no. of units in previous layer)\n",
    "    - bi: (no. of units in current layer, 1)\n",
    "    - Ai-1: (no. of units in previous layer, ?)\n",
    "    - Zi and Ai: (no. of units in current layer, ?)\n",
    "    - X (Input): (Features, (Batch ?))"
   ]
  },
  {
   "cell_type": "markdown",
   "metadata": {},
   "source": [
    "## 1.2 Initialization \n",
    "\n",
    "Initialize parameters (W & b) with random values. These are the learnable parameters which will try to get their best values during training.\n"
   ]
  },
  {
   "cell_type": "code",
   "execution_count": 1,
   "metadata": {
    "collapsed": true
   },
   "outputs": [],
   "source": [
    "import numpy as np\n",
    "import matplotlib.pyplot as plt\n",
    "%matplotlib inline\n",
    "\n",
    "\n",
    "np.random.seed(1)"
   ]
  },
  {
   "cell_type": "code",
   "execution_count": 2,
   "metadata": {
    "collapsed": true
   },
   "outputs": [],
   "source": [
    "def initialize_parameters(layerdims):\n",
    "    '''layerdims: List containing no. of units in each layer\n",
    "    \n",
    "    Returns:\n",
    "    parameters: A dict consist of all learnable parameters (W1,b1, W2,b2, ...)\n",
    "    '''\n",
    "    parameters={}\n",
    "    L = len(layerdims)\n",
    "    for i in range(1, L):\n",
    "        parameters[\"W\"+str(i)] = np.random.randn( layerdims[i], layerdims[i-1]) * 0.1\n",
    "        parameters[\"b\"+str(i)] = np.zeros( (layerdims[i],1))\n",
    "        \n",
    "    return parameters"
   ]
  },
  {
   "cell_type": "markdown",
   "metadata": {},
   "source": [
    "## 1.3 Forward Propagation\n",
    "\n",
    "- for L-1 layer (ie. 1,2,3...L-1)\n",
    "    - Linear -> Activation(Relu)   \n",
    "- for L th layer (ie. last layer)\n",
    "    - Linear -> Activation(sigmoid)\n",
    "$$Z^{[l]} = W^{[l]}A^{[l-1]} +b^{[l]}$$\n",
    "$$A = activation(Z)$$\n",
    "where $A^{[0]} = Input matrix(X)$. \n",
    "\n",
    "    "
   ]
  },
  {
   "cell_type": "code",
   "execution_count": 3,
   "metadata": {
    "collapsed": true
   },
   "outputs": [],
   "source": [
    "def forward(A_prev, W, b, activation):\n",
    "    ''' Forward Propagation for Single layer\n",
    "    A_prev: Activation from previous layer (size of previous layer, Batch_size)\n",
    "        A[0] = X\n",
    "    W: Weight matrix (size of current layer, size of previous layer)\n",
    "    b: bias vector, (size of current layer, 1)\n",
    "    \n",
    "    Returns:\n",
    "    A: Output of Single layer\n",
    "    cache = (A_prev,W,b,Z), these will be used while backpropagation\n",
    "    '''\n",
    "    # Linear \n",
    "    Z = np.add( np.dot(W,A_prev), b)\n",
    "    \n",
    "    # Activation Function \n",
    "    if activation== \"sigmoid\":\n",
    "        A=1/(1+np.exp(-Z))\n",
    "        \n",
    "    if activation== \"relu\":\n",
    "        A = np.maximum(0,Z)\n",
    "        \n",
    "    cache=(A_prev,W,b,Z)\n",
    "    \n",
    "    return A, cache "
   ]
  },
  {
   "cell_type": "code",
   "execution_count": 4,
   "metadata": {
    "collapsed": true
   },
   "outputs": [],
   "source": [
    "def L_layer_forward(X, parameters, layerdims):\n",
    "    ''' Forward propagation for L-layer\n",
    "     \n",
    "     [LINEAR -> RELU]*(L-1)   ->    LINEAR->SIGMOID\n",
    "     \n",
    "     X: Input matrix (input size/no. of features, no. of examples/BatchSize)\n",
    "     parameters: dict of {W1,b1 ,W2,b2, ...}\n",
    "     layerdims: Vector, no. of units in each layer  (no. of layers,)\n",
    "    \n",
    "    Returns:\n",
    "     y_hat: Output of Forward Propagation\n",
    "     caches: (A_prev,W,b,Z) *(L-1 times , of 1,2,..L layers)\n",
    "    '''\n",
    "    caches=[]\n",
    "    L =  len(layerdims)-1\n",
    "    A = X\n",
    "    \n",
    "    \n",
    "    # L[0] is units for Input layer\n",
    "    # [LINEAR -> RELU]*(L-1)    Forward for L-1 layers \n",
    "    for l in range(1,L):\n",
    "        A_prev = A\n",
    "        A, cache=forward(A_prev, parameters[\"W\"+str(l)], parameters[\"b\"+str(l)], \"relu\")\n",
    "        caches.append(cache)\n",
    "      \n",
    "    # Forward for Last layer\n",
    "    # [Linear -> sigmoid]\n",
    "    y_hat, cache=forward(A, parameters[\"W\"+str(l+1)], parameters[\"b\"+str(l+1)], \"sigmoid\")\n",
    "    caches.append(cache)\n",
    "    \n",
    "    return y_hat, caches\n",
    "    "
   ]
  },
  {
   "cell_type": "markdown",
   "metadata": {},
   "source": [
    "## 1.4 Cost function\n",
    "Computing the cross-entropy cost J, : \n",
    "\n",
    "$$J = -\\frac{1}{m} \\sum\\limits_{i = 1}^{m} (y^{(i)}\\log\\left(a^{[L] (i)}\\right) + (1-y^{(i)})\\log\\left(1- a^{[L](i)}\\right)) $$"
   ]
  },
  {
   "cell_type": "code",
   "execution_count": 5,
   "metadata": {
    "collapsed": true
   },
   "outputs": [],
   "source": [
    "def compute_cost(y_hat, Y):\n",
    "    '''Computes the Loss between predicted and true label\n",
    "    y_hat: Predicted Output (1, no. of examples)\n",
    "    Y: Actual label vector consist of 0/1 (1, no. of examples)\n",
    "    \n",
    "    '''\n",
    "    m = Y.shape[1]\n",
    "    costt = np.add(  np.multiply(Y, np.log(y_hat)) ,  np.multiply(1-Y, np.log(1-y_hat))  ) \n",
    "    cost = (-1/m) * np.sum(costt, axis=1)\n",
    "    \n",
    "    return cost\n"
   ]
  },
  {
   "cell_type": "markdown",
   "metadata": {},
   "source": [
    "## 1.5 Backward Propagation\n",
    "\n",
    "$$ dAL = \\frac{\\partial \\mathcal{J} }{\\partial AL} = - (\\frac{Y}{AL}+\\frac{1-Y}{1-AL})$$\n",
    "\n",
    "$$ dW^{[l]} = \\frac{\\partial \\mathcal{J} }{\\partial W^{[l]}} = \\frac{1}{m} dZ^{[l]} A^{[l-1] T} $$\n",
    "\n",
    "$$ db^{[l]} = \\frac{\\partial \\mathcal{J} }{\\partial b^{[l]}} = \\frac{1}{m} \\sum_{i = 1}^{m} dZ^{[l](i)}$$\n",
    "\n",
    "$$ dA^{[l-1]} = \\frac{\\partial \\mathcal{J} }{\\partial A^{[l-1]}} = W^{[l] T} dZ^{[l]} $$\n"
   ]
  },
  {
   "cell_type": "code",
   "execution_count": 6,
   "metadata": {
    "collapsed": true
   },
   "outputs": [],
   "source": [
    "def backward(dA,  cache, activation):\n",
    "    '''Backward propagation for single layer\n",
    "    dz: Derivative of Cost wrt Z   (of current layer)\n",
    "    cache: tuple of (A_prev,W,b,Z)\n",
    "    \n",
    "    Retuns:\n",
    "    dW: Gradient of Cost wrt W, (having same shape as W)\n",
    "    db: Gradient of Cost wrt b, (having same shape as b)\n",
    "    dA_prev: Gradient of Cost wrt Activation (same shape as A_prev)\n",
    "    '''\n",
    "    A_prev,W,b,Z = cache\n",
    "    m= A_prev.shape[1]\n",
    "    \n",
    "    # Computing derivative of Cost wrt Z\n",
    "    \n",
    "    # dA, Z, \n",
    "    if activation == \"relu\":\n",
    "        dZ = np.array(dA, copy=True)\n",
    "        dZ[Z <=0] =0\n",
    "        \n",
    "    if activation == \"sigmoid\":\n",
    "        s = 1/(1+np.exp(-Z))\n",
    "        dZ = dA * s * (1-s)\n",
    "        \n",
    "    \n",
    "    # Computing derivative of Cost wrt A & W  & b\n",
    "    dA_prev = np.dot(W.transpose(), dZ)\n",
    "    dW = (1/m) * np.dot(dZ, A_prev.transpose())\n",
    "    db = (1/m) * np.sum(dZ, axis=1, keepdims=True)\n",
    "   \n",
    "    \n",
    "    return dA_prev, dW, db"
   ]
  },
  {
   "cell_type": "code",
   "execution_count": 7,
   "metadata": {
    "collapsed": true
   },
   "outputs": [],
   "source": [
    "def L_layer_backward(y_hat, Y, caches, layerdims):\n",
    "    ''' Backward Propogation from layer L to 1\n",
    "    y_hat:  predicted output\n",
    "    Y:      true values\n",
    "    caches: list of caches stored while forward Propagation\n",
    "                (A_prev,W,b,Z) *(L-1 times , of 1,2,..L-1 layers) with relu\n",
    "                (A_prev,W,b,Z) (for layer L, with sigmoid)\n",
    "    layerdims:List having no. of units in each layer \n",
    "    Returns:\n",
    "    grads: A dict containing gradient (dA_i, dW_i, db_i), this will be used while updating parameters\n",
    "    '''\n",
    "    AL = y_hat \n",
    "    L = len(layerdims) -1\n",
    "    grads={}\n",
    "    \n",
    "    # Intializing Backpropagation\n",
    "    \n",
    "    # Compute derivation of Cost wrt A\n",
    "    dAL = -(np.divide(Y,AL) - np.divide(1-Y, 1-AL))\n",
    "    \n",
    "    \n",
    "    # Compute derivative of Lth layer (Sigmoid -> Linear) gradients. \n",
    "    # Inputs: (AL, Y, caches)     Outputs: (grad[\"dAL\"], grad[\"dWL] , grad[\"dbL\"])\n",
    "    grads[\"dA\"+str(L)], grads[\"dW\"+str(L)], grads[\"db\"+str(L)] = backward(dAL, caches[-1], activation=\"sigmoid\")\n",
    "    \n",
    "   \n",
    "    # Compute derivative for (1,2,..L-1)layers (relu -> Linear) gradients.\n",
    "    # Inputs:(grads[dAL], caches)   Outputs:(grads(dA_i, dW_i, db_i) )\n",
    "    \n",
    "   \n",
    "    for i in list(reversed(range(L-1))):                       \n",
    "        \n",
    "        current_cache = caches[i]\n",
    "        \n",
    "        a,b,c=backward(grads[\"dA\"+str(i+2)], current_cache, activation=\"relu\")\n",
    "        grads[\"dA\"+str(i+1)] = a\n",
    "        grads[\"dW\"+str(i+1)] = b\n",
    "        grads[\"db\"+str(i+1)] = c\n",
    "        \n",
    "    return grads"
   ]
  },
  {
   "cell_type": "markdown",
   "metadata": {},
   "source": [
    "## 1.6 Update Parameters\n",
    "\n",
    "These parameters will be update by using Gradient Descent.\n",
    "$$ W^{[l]} = W^{[l]} - \\alpha \\text{ } dW^{[l]} $$\n",
    "$$ b^{[l]} = b^{[l]} - \\alpha \\text{ } db^{[l]} $$\n",
    "\n",
    "where, alpha is Learning Rate"
   ]
  },
  {
   "cell_type": "code",
   "execution_count": 8,
   "metadata": {
    "collapsed": true
   },
   "outputs": [],
   "source": [
    "def update_params(params, grads, learning_rate):\n",
    "    '''\n",
    "    parameters: dict of (W1,b1, W2,b2,...)\n",
    "    grads: Gradients of(A,W,b) stored while Backpropagation (dA,dW,db)\n",
    "    \n",
    "    returns: updated parameters\n",
    "    '''\n",
    "    # As each layer has 2 parameters (W,b)\n",
    "    L=len(params) // 2\n",
    "    \n",
    "    for l in range(L):\n",
    "        params[\"W\"+str(l+1)] = params[\"W\"+str(l+1)] - learning_rate * grads[\"dW\"+str(l+1)]\n",
    "        params[\"b\"+str(l+1)] = params[\"b\"+str(l+1)] - learning_rate * grads[\"db\"+str(l+1)]\n",
    "        \n",
    "    return params"
   ]
  },
  {
   "cell_type": "markdown",
   "metadata": {},
   "source": [
    "# 2. Use Helper functions for Image Classification\n",
    "\n",
    "Classify images as \"Cats vs Non-Cat\"\n",
    "- Load the dataset\n",
    "- Define a NN\n",
    "- Train with training data and Test with test data\n"
   ]
  },
  {
   "cell_type": "markdown",
   "metadata": {},
   "source": [
    "## 2.1 Load Dataset"
   ]
  },
  {
   "cell_type": "code",
   "execution_count": 9,
   "metadata": {},
   "outputs": [
    {
     "name": "stdout",
     "output_type": "stream",
     "text": [
      "Training Input Data (209, 64, 64, 3)\n",
      "Training labels(1, 209)\n"
     ]
    },
    {
     "name": "stderr",
     "output_type": "stream",
     "text": [
      "C:\\anaconda\\lib\\site-packages\\h5py\\__init__.py:34: FutureWarning: Conversion of the second argument of issubdtype from `float` to `np.floating` is deprecated. In future, it will be treated as `np.float64 == np.dtype(float).type`.\n",
      "  from ._conv import register_converters as _register_converters\n"
     ]
    },
    {
     "data": {
      "text/plain": [
       "<matplotlib.image.AxesImage at 0x20c58ce4ba8>"
      ]
     },
     "execution_count": 9,
     "metadata": {},
     "output_type": "execute_result"
    },
    {
     "data": {
      "image/png": "[encoded data removed]",
      "text/plain": [
       "<matplotlib.figure.Figure at 0x20c58ba8828>"
      ]
     },
     "metadata": {},
     "output_type": "display_data"
    }
   ],
   "source": [
    "from utils import load_data\n",
    "# Loading DataSet\n",
    "train_x, train_Y, test_x, test_Y, classes = load_data()\n",
    "\n",
    "# No. of Examples, Image Height, Image Width, no. of Channels(RBG)\n",
    "print(f\"Training Input Data {train_x.shape}\")\n",
    "\n",
    "# consist of 0/1, 1:if it's a cat else 0\n",
    "print(f\"Training labels{train_Y.shape}\")\n",
    "\n",
    "# Example\n",
    "index =11\n",
    "plt.imshow(train_x[index])\n"
   ]
  },
  {
   "cell_type": "code",
   "execution_count": 10,
   "metadata": {},
   "outputs": [
    {
     "name": "stdout",
     "output_type": "stream",
     "text": [
      "Training Data(12288, 209)\n",
      "Test data(12288, 50)\n"
     ]
    }
   ],
   "source": [
    "# Reshape each image to Vector, X to (Single_Vector 64*64*3,  no.of examples)\n",
    "train_Xflat = train_x.reshape(-1, train_x.shape[0])\n",
    "test_Xflat = test_x.reshape(-1, test_x.shape[0])\n",
    "\n",
    "# Scaling pixel values b/w 0 to 1 \n",
    "train_X = train_Xflat /255\n",
    "test_X = test_Xflat /255\n",
    "\n",
    "print(f\"Training Data{train_X.shape}\")\n",
    "print(f\"Test data{test_X.shape}\")\n"
   ]
  },
  {
   "cell_type": "markdown",
   "metadata": {},
   "source": [
    "## 2.2 Defining Model\n",
    "\n",
    "    1. Define Model Config(no. of layers and units in each layer)\n",
    "    2. Initialize parameters\n",
    "    3. Loop:\n",
    "        a. Forward Propagation\n",
    "        b. Compute Cost Function\n",
    "        c. Backward Propagation\n",
    "        d. Update parameters(W,b using cache values)\n",
    "    4. Use parameters to predict labels\n",
    "\n",
    "### Model Configuration\n",
    "    layer[0]: Input layer (12288,?)\n",
    "    layer[1]: 20 units with relu as Activation\n",
    "    layer[2]: 7 units with relu as Activation \n",
    "    layer[3]: 5 units with relu as Activation \n",
    "    layer[4]: Output layer, 1 unit with sigmoid as Activation "
   ]
  },
  {
   "cell_type": "code",
   "execution_count": 11,
   "metadata": {
    "collapsed": true
   },
   "outputs": [],
   "source": [
    "# Model Configuration\n",
    "# len(layer_dims), will be no. of layers with Input & Output layers\n",
    "layer_dims=[12288, 20, 7, 5, 1]\n",
    "\n",
    "learning_rate=0.009\n",
    "\n",
    "# No. of Gradient Descent Iterations\n",
    "num_itr=300"
   ]
  },
  {
   "cell_type": "code",
   "execution_count": 12,
   "metadata": {
    "collapsed": true
   },
   "outputs": [],
   "source": [
    "def image_classifier(X, Y, layer_dims, learning_rate, num_itr, parameters, initialize=False):\n",
    "    ''' Implements a L-layer NN: \n",
    "    [Linear->Relu] *(L-1)times  ->  [Linear->Sigmoid] \n",
    "    \n",
    "    X: Input data(Images) (Height*Weidth*3 , no. of examples)\n",
    "    Y: True labels, consist of 0/1      (1, no. of examples)\n",
    "    layer_dims: list, where each value is no. of units.\n",
    "    learning_rate: for parameters update\n",
    "    num_itr: no. of iterations of Gradient Descent\n",
    "    \n",
    "    Returs:\n",
    "    parameters: parameters learnt during Model Training.\n",
    "    '''\n",
    "    costs=[]\n",
    "    \n",
    "    if initialize:\n",
    "        parameters = initialize_parameters(layer_dims)\n",
    "    \n",
    "   \n",
    "    # Gradient Descent\n",
    "    for i in range(num_itr):\n",
    "        \n",
    "        # Forward propagation: [LINEAR -> RELU]*(L-1) -> LINEAR -> SIGMOID\n",
    "        y_hat, caches = L_layer_forward(X, parameters, layer_dims)\n",
    "\n",
    "        # Compute Cost\n",
    "        cost = compute_cost(y_hat, Y)\n",
    "\n",
    "        # Backward propagation\n",
    "        grads = L_layer_backward(y_hat, Y, caches, layer_dims)\n",
    "\n",
    "        # Update Parameters\n",
    "        parameters = update_params(parameters, grads, learning_rate)\n",
    "        \n",
    "        if i%200 ==0:\n",
    "            print(f\"cost {i}: {np.squeeze(cost)}\")\n",
    "        if i%100 ==0:\n",
    "            costs.append(cost[0])\n",
    "\n",
    "    # Ploting the Cost\n",
    "    plt.plot(costs)\n",
    "    plt.xlabel(\"n iteration\")\n",
    "    plt.ylabel(\"cost\")\n",
    "    \n",
    "    return parameters"
   ]
  },
  {
   "cell_type": "code",
   "execution_count": 18,
   "metadata": {},
   "outputs": [
    {
     "name": "stdout",
     "output_type": "stream",
     "text": [
      "cost 0: 0.6905574738743139\n",
      "cost 200: 0.6259687089377447\n",
      "cost 400: 0.5491339571191219\n",
      "cost 0: 0.5165736771011232\n",
      "cost 200: 0.44000740507364766\n",
      "cost 400: 0.41408147269860646\n",
      "cost 0: 0.41267587248977683\n",
      "cost 200: 0.3509585569849044\n",
      "cost 400: 0.34337928409686364\n",
      "cost 600: 0.33967454342915293\n",
      "cost 800: 0.3061756591021378\n"
     ]
    },
    {
     "data": {
      "image/png": "[encoded data removed]",
      "text/plain": [
       "<matplotlib.figure.Figure at 0x20c5ccf79e8>"
      ]
     },
     "metadata": {},
     "output_type": "display_data"
    }
   ],
   "source": [
    "parameters=image_classifier(train_X, train_Y, layer_dims, 0.05, 500, 0, initialize=True)\n",
    "parameters=image_classifier(train_X, train_Y, layer_dims, 0.009, 500, parameters, initialize=False)\n",
    "parameters=image_classifier(train_X, train_Y, layer_dims, 0.005, 1000, parameters, initialize=False)"
   ]
  },
  {
   "cell_type": "code",
   "execution_count": 23,
   "metadata": {},
   "outputs": [
    {
     "name": "stdout",
     "output_type": "stream",
     "text": [
      "cost 0: 0.09455121331197718\n",
      "cost 200: 0.08905332813952466\n",
      "cost 400: 0.08371083394364122\n",
      "cost 600: 0.0793367319090336\n",
      "cost 800: 0.07536823660230452\n",
      "cost 1000: 0.07197433309116627\n",
      "cost 1200: 0.06872838900925801\n",
      "cost 1400: 0.06625443634187707\n",
      "cost 1600: 0.06437765728954029\n",
      "cost 1800: 0.0620562741762558\n"
     ]
    },
    {
     "data": {
      "image/png": "[encoded data removed]",
      "text/plain": [
       "<matplotlib.figure.Figure at 0x20c5ca371d0>"
      ]
     },
     "metadata": {},
     "output_type": "display_data"
    }
   ],
   "source": [
    "parameters = image_classifier(train_X, train_Y, layer_dims, 0.006, 2000, parameters, initialize=False)"
   ]
  },
  {
   "cell_type": "code",
   "execution_count": 24,
   "metadata": {
    "collapsed": true
   },
   "outputs": [],
   "source": [
    "# Caching Weights\n",
    "import pickle\n",
    "pickle.dump(parameters, open('parameters.pkl', 'wb'))\n",
    "parameters=pickle.load(open(\"parameters.pkl\", 'rb'))"
   ]
  },
  {
   "cell_type": "code",
   "execution_count": 25,
   "metadata": {
    "collapsed": true
   },
   "outputs": [],
   "source": [
    "# Defining predict function\n",
    "def predict(X,Y, parameters):\n",
    "    \n",
    "    m= X.shape[1]\n",
    "    # forward propagation\n",
    "    y_hat, caches = L_layer_forward(X, parameters, layer_dims)\n",
    "    \n",
    "    y_hat=y_hat.reshape(-1)\n",
    "    predicted=np.where(y_hat>0.5, 1, 0)\n",
    "    \n",
    "    accuracy = np.sum(predicted == Y) / m\n",
    "     \n",
    "    return(accuracy, predicted)\n",
    "    \n",
    "\n",
    "# Show Wrong predicted Images\n",
    "def mislabel(X,Y,y_hat):\n",
    "    xx = np.array(Y+y_hat)\n",
    "    mislabel_index = (np.where(xx == 1))[1]\n",
    "    return mislabel_index"
   ]
  },
  {
   "cell_type": "code",
   "execution_count": 33,
   "metadata": {},
   "outputs": [
    {
     "name": "stdout",
     "output_type": "stream",
     "text": [
      "Train Data Accuracy: 0.9856459330143541\n",
      "Mislabel Index [105 131 139]\n"
     ]
    },
    {
     "data": {
      "text/plain": [
       "<matplotlib.image.AxesImage at 0x20c5cefdf28>"
      ]
     },
     "execution_count": 33,
     "metadata": {},
     "output_type": "execute_result"
    },
    {
     "data": {
      "image/png": "[encoded data removed]",
      "text/plain": [
       "<matplotlib.figure.Figure at 0x20c5ce7d048>"
      ]
     },
     "metadata": {},
     "output_type": "display_data"
    }
   ],
   "source": [
    "train_accuracy, train_predictedValues = predict(train_X, train_Y, parameters)\n",
    "print(f\"Train Data Accuracy: {train_accuracy}\")\n",
    "# More Accuracy can be obtain by training again at lower learning_rate\n",
    "\n",
    "# Show Mislabeled Image\n",
    "mislabel_index = mislabel(train_X,train_Y,train_predictedValues)\n",
    "print(\"Mislabel Index\", mislabel_index)\n",
    "\n",
    "indexx =mislabel_index[1]\n",
    "plt.imshow(train_x[indexx])\n"
   ]
  }
 ],
 "metadata": {
  "kernelspec": {
   "display_name": "Python 3",
   "language": "python",
   "name": "python3"
  },
  "language_info": {
   "codemirror_mode": {
    "name": "ipython",
    "version": 3
   },
   "file_extension": ".py",
   "mimetype": "text/x-python",
   "name": "python",
   "nbconvert_exporter": "python",
   "pygments_lexer": "ipython3",
   "version": "3.6.3"
  }
 },
 "nbformat": 4,
 "nbformat_minor": 2
}
